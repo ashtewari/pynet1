{
 "cells": [
  {
   "cell_type": "code",
   "execution_count": null,
   "id": "da5ef520",
   "metadata": {},
   "outputs": [],
   "source": [
    "pip install openai"
   ]
  },
  {
   "cell_type": "code",
   "execution_count": null,
   "id": "635750f8",
   "metadata": {},
   "outputs": [],
   "source": [
    "pip install git+https://github.com/openai/whisper.git "
   ]
  },
  {
   "cell_type": "code",
   "execution_count": null,
   "id": "1ec376de",
   "metadata": {},
   "outputs": [],
   "source": [
    "%conda install -c conda-forge ffmpeg"
   ]
  },
  {
   "cell_type": "code",
   "execution_count": null,
   "id": "5e90d0d2",
   "metadata": {},
   "outputs": [],
   "source": [
    "!conda --version"
   ]
  },
  {
   "cell_type": "code",
   "execution_count": null,
   "id": "0717f2c6",
   "metadata": {},
   "outputs": [],
   "source": [
    "ffmpeg -version"
   ]
  },
  {
   "cell_type": "code",
   "execution_count": null,
   "id": "bff266ad",
   "metadata": {},
   "outputs": [],
   "source": [
    "import os\n",
    "from dotenv import load_dotenv, find_dotenv\n",
    "load_dotenv(find_dotenv(), override=True)"
   ]
  },
  {
   "cell_type": "code",
   "execution_count": 2,
   "id": "df73e6d5",
   "metadata": {},
   "outputs": [],
   "source": [
    "import httpx\n",
    "from openai import OpenAI\n",
    "api_key=os.getenv(\"OPENAI_WHISPER_API_KEY\")\n",
    "client=OpenAI(api_key=api_key,http_client=httpx.Client())"
   ]
  },
  {
   "cell_type": "code",
   "execution_count": null,
   "id": "80155477",
   "metadata": {},
   "outputs": [],
   "source": [
    "\n",
    "\n"
   ]
  },
  {
   "cell_type": "code",
   "execution_count": 5,
   "id": "6082def4",
   "metadata": {},
   "outputs": [],
   "source": [
    "\n",
    "def transcribe(name):\n",
    "# Open the audio file\n",
    "    with open(f\"audio-12262024/{name}\", \"rb\") as audio_file:\n",
    "        # Transcribe the audio file\n",
    "        result = client.audio.transcriptions.create(\n",
    "            model=\"whisper-1\",\n",
    "            file=audio_file\n",
    "        )\n",
    "\n",
    "    # Specify the file name\n",
    "    file_name = f\"{name[:-3]}-12262024txt\"\n",
    "\n",
    "    # Open the file in write mode ('w')\n",
    "\n",
    "    with open(file_name, \"w\") as file:\n",
    "        # Write your text to the file\n",
    "        file.write(result.text)\n",
    "\n",
    "    print(f\"Text written to {file_name} successfully.\")\n"
   ]
  },
  {
   "cell_type": "code",
   "execution_count": null,
   "id": "7da66693",
   "metadata": {},
   "outputs": [],
   "source": [
    "transcribe(\"11.mp3\")"
   ]
  },
  {
   "cell_type": "code",
   "execution_count": null,
   "id": "d7573ab1",
   "metadata": {},
   "outputs": [],
   "source": [
    "for n in range(11):\n",
    "    name = f\"0{n+1}.mp3\"\n",
    "    if n >= 10:\n",
    "        name = f\"{n+1}.mp3\"\n",
    "    \n",
    "    print(name)\n",
    "    transcribe(name)\n"
   ]
  },
  {
   "cell_type": "code",
   "execution_count": null,
   "id": "5dcd0272",
   "metadata": {},
   "outputs": [],
   "source": [
    "import whisper\n",
    "import os\n",
    "print(os.getcwd())\n",
    "\n",
    "model = whisper.load_model(\"tiny.en\")\n",
    "os.chdir(os.getcwd())\n",
    "print(os.getcwd())\n",
    "file_path = r\".\\audio\\presto.wav\"\n",
    "result = model.transcribe(file_path)\n",
    "print(result[\"text\"])"
   ]
  },
  {
   "cell_type": "code",
   "execution_count": null,
   "id": "054d932f",
   "metadata": {},
   "outputs": [],
   "source": [
    "import whisper\n",
    "\n",
    "model = whisper.load_model(\"base\")\n",
    "\n",
    "# load audio and pad/trim it to fit 30 seconds\n",
    "file_path = r\".\\audio\\test.mp3\"\n",
    "audio = whisper.load_audio(file_path)\n",
    "audio = whisper.pad_or_trim(audio)\n",
    "\n",
    "# make log-Mel spectrogram and move to the same device as the model\n",
    "mel = whisper.log_mel_spectrogram(audio).to(model.device)\n",
    "\n",
    "# detect the spoken language\n",
    "_, probs = model.detect_language(mel)\n",
    "print(f\"Detected language: {max(probs, key=probs.get)}\")\n",
    "\n",
    "# decode the audio\n",
    "options = whisper.DecodingOptions()\n",
    "result = whisper.decode(model, mel, options)\n",
    "\n",
    "# print the recognized text\n",
    "print(result.text)"
   ]
  },
  {
   "cell_type": "code",
   "execution_count": null,
   "id": "0fe1dad7",
   "metadata": {},
   "outputs": [],
   "source": [
    "def rewrite_text(client, text, model=\"o1\", temperature=0.7):\n",
    "    \"\"\"\n",
    "    Rewrite a given text using OpenAI API.\n",
    "\n",
    "    Parameters:\n",
    "        api_key (str): Your OpenAI API key.\n",
    "        text (str): The text to rewrite.\n",
    "        model (str): The OpenAI model to use (default is \"gpt-4\").\n",
    "        temperature (float): Sampling temperature (default is 0.7).\n",
    "\n",
    "    Returns:\n",
    "        str: The rewritten text.\n",
    "    \"\"\"\n",
    "\n",
    "    try:\n",
    "        messages=[\n",
    "            {\n",
    "                \"role\": \"system\",\n",
    "                \"content\": \"rewrite the text provided by the user in an informal and professional manner.\"\n",
    "            }, \n",
    "            {\n",
    "                \"role\": \"user\",\n",
    "                \"content\": text\n",
    "            }\n",
    "        ]\n",
    "        completion = client.chat.completions.create(\n",
    "        model=os.getenv(\"LLM_MODEL_NAME\"),\n",
    "        response_format={ \"type\": \"json_object\" },\n",
    "        messages=messages\n",
    "    )\n",
    "    \n",
    "        return completion.choices[0].message.content\n",
    "    except client.error.OpenAIError as e:\n",
    "        return f\"An error occurred: {e}\""
   ]
  },
  {
   "cell_type": "code",
   "execution_count": null,
   "id": "ed88222c",
   "metadata": {},
   "outputs": [],
   "source": [
    "text = \"this is a sample text. this is a story about a king and a queen.\"\n",
    "rewrite_text(client, text)\n",
    "             "
   ]
  },
  {
   "cell_type": "code",
   "execution_count": null,
   "id": "add8b7a5",
   "metadata": {},
   "outputs": [],
   "source": [
    "\n",
    "# Function to generate images\n",
    "def generate_lost_and_found_images(prompt, num_images):\n",
    "    images = []\n",
    "    for _ in range(num_images):\n",
    "        response = client.images.generate(\n",
    "            prompt=prompt,\n",
    "            n=1,  # Number of images per request\n",
    "            model=\"dall-e-3\",\n",
    "            size=\"1024x1024\",\n",
    "            quality=\"standard\"         \n",
    "        )\n",
    "        images.append(response.data[0].url)\n",
    "    return images\n",
    "\n",
    "# Prompt for lost and found box\n",
    "prompt = (\n",
    "    \"A plain, unlabelled box placed on a clean surface in a well-lit room. Box contains the One of Each of the following items: \"\n",
    "    \"Old keys, Chargers and cables, Small electronics, Manuals and instructions, Disposable gloves, Velcro strips, Bungee cords\"\n",
    "    \"Ornaments (e.g., Christmas baubles), String lights (NOT hanging, NOT lit), Holiday figurines, Candle holders\"\n",
    "    \"Paintbrushes, Hot glue sticks, Ribbons and twine, Scissors, Measuring tools\"\n",
    "    \"Batteries, Lightbulbs, Electrical tape, Duct tape, Extension cords, Super glue\"\n",
    "    \"Tennis balls, Golf tees, Hand grips or gloves, Bike repair tools or patches\"\n",
    "    \"Plastic containers, Plastic bags, Plastic bottles, Plastic cups, Plastic utensils\"\n",
    "    \"Old books, Old magazines, Old newspapers, Old CDs, Old DVDs\"\n",
    "    \"Old clothes, Old shoes, Old hats, Old belts, Old wallets\"\n",
    "    \"Plant seeds, Gardening gloves, Plant labels, Twine and ties, Small pruning shears\"\n",
    "    \"Spare fuses, Spare light bulbs, Spare batteries, Spare chargers, Spare extension cords\"\n",
    "    \"screws, nails, bolts, and nuts, Washers and fasteners, Screwdrivers and wrenches, Tape measures, Sandpaper, Small power tool accessories (drill bits, saw blades)\"\n",
    "    \"The scene emphasizes the casual mix of items, no more than 10 items, object are arranged in a way that is realistic and natural, but not cluttered.\"\n",
    ")\n",
    "\n",
    "# Generate images\n",
    "num_images = 1  # Adjust the number of images as needed\n",
    "image_urls = generate_lost_and_found_images(prompt, num_images)\n",
    "\n",
    "# Print image URLs\n",
    "for idx, url in enumerate(image_urls):\n",
    "    print(f\"Image {idx + 1}: {url}\")\n"
   ]
  },
  {
   "cell_type": "code",
   "execution_count": null,
   "id": "e07d715d",
   "metadata": {},
   "outputs": [],
   "source": [
    "import requests\n",
    "import os\n",
    "import uuid\n",
    "\n",
    "def save_images(image_urls, folder=\"lost_and_found_images\"):\n",
    "    os.makedirs(folder, exist_ok=True)\n",
    "    for idx, url in enumerate(image_urls):\n",
    "        response = requests.get(url)\n",
    "        with open(f\"{folder}/image_{idx + 1}_{str(uuid.uuid4())}.png\", \"wb\") as f:\n",
    "            f.write(response.content)\n",
    "        print(f\"Saved image_{idx + 1}.png\")\n",
    "\n",
    "save_images(image_urls)\n"
   ]
  }
 ],
 "metadata": {
  "kernelspec": {
   "display_name": "pynet1",
   "language": "python",
   "name": "python3"
  },
  "language_info": {
   "codemirror_mode": {
    "name": "ipython",
    "version": 3
   },
   "file_extension": ".py",
   "mimetype": "text/x-python",
   "name": "python",
   "nbconvert_exporter": "python",
   "pygments_lexer": "ipython3",
   "version": "3.10.11"
  }
 },
 "nbformat": 4,
 "nbformat_minor": 5
}
